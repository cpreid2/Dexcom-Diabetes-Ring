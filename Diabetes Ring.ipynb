{
 "cells": [
  {
   "cell_type": "code",
   "execution_count": 21,
   "metadata": {
    "collapsed": true
   },
   "outputs": [],
   "source": [
    "# Notebook to create queries to the new Dexcom API to create Diabetes Ring"
   ]
  },
  {
   "cell_type": "code",
   "execution_count": 22,
   "metadata": {
    "collapsed": true
   },
   "outputs": [],
   "source": [
    "import requests\n",
    "import json\n",
    "import ssl\n",
    "import http.client\n",
    "import datetime\n",
    "import pandas as pd\n",
    "import matplotlib\n",
    "import matplotlib.pyplot as plt\n",
    "import rauth\n",
    "\n",
    "from webbrowser import open_new\n",
    "from http.server import BaseHTTPRequestHandler, HTTPServer\n",
    "from urllib.request import urlopen, HTTPError"
   ]
  },
  {
   "cell_type": "code",
   "execution_count": 23,
   "metadata": {
    "collapsed": true
   },
   "outputs": [],
   "source": [
    "class HTTPServerHandler(BaseHTTPRequestHandler):\n",
    "\n",
    "    def __init__(self, request, address, server):\n",
    "        super().__init__(request, address, server)\n",
    "\n",
    "    def do_GET(self):\n",
    "        self.send_response(200)\n",
    "        self.send_header('Content-type', 'text/html')\n",
    "        self.end_headers()\n",
    "        \n",
    "        if 'code' in self.path:\n",
    "            self.wfile.write(bytes('<html><h1>You may now close this window.'\n",
    "                              + '</h1></html>', 'utf-8'))\n",
    "            self.server.auth_code = self.path.split('=')[1]"
   ]
  },
  {
   "cell_type": "code",
   "execution_count": 24,
   "metadata": {
    "collapsed": true
   },
   "outputs": [],
   "source": [
    "class Golden_Ticket():\n",
    "    \n",
    "    def __init__(self, client_id, client_sec):\n",
    "        self.client_id = client_id\n",
    "        self.client_sec = client_sec\n",
    "        self.redirect_uri = 'http://0.0.0.0:8000/'\n",
    "        \n",
    "    def Assign_Ids(self, client_id, client_sec):\n",
    "        self.client_id = client_id\n",
    "        self.client_sec = client_sec\n",
    "        \n",
    "    def Get_Auth_Code(self):\n",
    "        \n",
    "        # Authorize with Dexcom and return Authorization Code\n",
    "        url = 'https://uam1.dexcom.com/identity/connect/authorize?client_id='+ self.client_id + '&redirect_uri=' + self.redirect_uri + '&response_type=code&scope=egv%20calibration%20device%20statistics%20event%20offline_access'\n",
    "\n",
    "        open_new(url)\n",
    "\n",
    "        httpServer = HTTPServer(('localhost', 8000), HTTPServerHandler)\n",
    "\n",
    "        httpServer.handle_request()\n",
    "        self.auth_code = httpServer.auth_code\n",
    "        httpServer.server_close()\n",
    "        \n",
    "    def Get_Token(self):\n",
    "            \n",
    "        conn = http.client.HTTPSConnection(\"api.dexcom.com\")\n",
    "\n",
    "        payload = \"client_secret=\"+ self.client_sec + \"&client_id=\"+ self.client_id + \"&code=\"+self.auth_code+\"&grant_type=authorization_code&redirect_uri=\"+self.redirect_uri\n",
    "\n",
    "        headers = {\n",
    "            'content-type': \"application/x-www-form-urlencoded\",\n",
    "            'cache-control': \"no-cache\"\n",
    "            }\n",
    "\n",
    "        conn.request(\"POST\", \"/v1/oauth2/token\", payload, headers)\n",
    "\n",
    "        res = conn.getresponse()\n",
    "        data = res.read()\n",
    "        Data = json.loads(data)\n",
    "\n",
    "        self.access_token = Data['access_token']\n",
    "        self.refresh_token = Data['refresh_token']\n",
    "        \n",
    "    def Get_Refresh(self):\n",
    "        \n",
    "        conn = http.client.HTTPSConnection(\"api.dexcom.com\")\n",
    "\n",
    "        payload = \"client_secret=\"+self.client_sec+\"&client_id=\"+self.client_id+\"&refresh_token=\"+self.refresh_token+\"&grant_type=refresh_token&redirect_uri=\"+self.redirect_uri\n",
    "\n",
    "        headers = {\n",
    "            'content-type': \"application/x-www-form-urlencoded\",\n",
    "            'cache-control': \"no-cache\"\n",
    "            }\n",
    "\n",
    "        conn.request(\"POST\", \"/v1/oauth2/token\", payload, headers)\n",
    "\n",
    "        res = conn.getresponse()\n",
    "        data = res.read()\n",
    "        Data = json.loads(data)\n",
    "\n",
    "        self.access_token = Data['access_token']\n",
    "        self.refresh_token = Data['refresh_token']"
   ]
  },
  {
   "cell_type": "code",
   "execution_count": 25,
   "metadata": {
    "collapsed": true
   },
   "outputs": [],
   "source": [
    "def GetAvgGlucose(StartTime,EndTime,Access_Token):\n",
    "    conn = http.client.HTTPSConnection(\"api.dexcom.com\")\n",
    "\n",
    "    headers = {\n",
    "        'authorization': \"Bearer \" + Access_Token\n",
    "        }\n",
    "\n",
    "    conn.request(\"GET\", \"/v1/users/self/egvs?startDate=\"+ StartTime +\"&endDate=\"+EndTime, headers=headers)\n",
    "\n",
    "    res = conn.getresponse()\n",
    "    data = res.read()\n",
    "    Data = json.loads(data)\n",
    "    return Data"
   ]
  },
  {
   "cell_type": "code",
   "execution_count": null,
   "metadata": {
    "collapsed": true
   },
   "outputs": [],
   "source": [
    "# Read in Client ID and Client Secret\n",
    "client_id_loc = '/Users/colinreid/Desktop/Client_ID.txt'\n",
    "client_secret_loc = '/Users/colinreid/Desktop/Client_Secret.txt'\n",
    "\n",
    "with open(client_id_loc, 'r') as myfile:\n",
    "        client_id = myfile.read().replace('\\n', '')\n",
    "\n",
    "with open(client_secret_loc, 'r') as myfile:\n",
    "    client_sec = myfile.read().replace('\\n', '')\n",
    "\n",
    "# Initialize Token\n",
    "Ticket = Golden_Ticket(client_id,client_sec)\n",
    "\n",
    "# Get Authorization Code\n",
    "Ticket.Get_Auth_Code()\n",
    "\n",
    "# Get Authorization Token\n",
    "Ticket.Get_Token()"
   ]
  },
  {
   "cell_type": "code",
   "execution_count": null,
   "metadata": {
    "collapsed": true
   },
   "outputs": [],
   "source": [
    "# Run again if you need to refresh your token\n",
    "Ticket.Get_Refresh()"
   ]
  },
  {
   "cell_type": "code",
   "execution_count": null,
   "metadata": {
    "collapsed": true
   },
   "outputs": [],
   "source": [
    "# Grab previous X days of data\n",
    "Today = datetime.date.today()\n",
    "Minus = Today - datetime.timedelta(days=90)\n",
    "\n",
    "StartTime = Minus.isoformat() + 'T00:00:00'\n",
    "EndTime = Today.isoformat() + 'T00:00:00'\n",
    "\n",
    "Results = GetAvgGlucose(StartTime, EndTime, Ticket.access_token)"
   ]
  },
  {
   "cell_type": "code",
   "execution_count": null,
   "metadata": {
    "collapsed": true
   },
   "outputs": [],
   "source": [
    "# Print out results in a pandas dataframe\n",
    "Glucose_Data = pd.DataFrame(Results['egvs'])"
   ]
  },
  {
   "cell_type": "code",
   "execution_count": null,
   "metadata": {
    "collapsed": true
   },
   "outputs": [],
   "source": [
    "# Calculate corresponding A1C\n",
    "average_glucose = Glucose_Data['value'].mean()\n",
    "A1C = (average_glucose + 46.7) / 28.7"
   ]
  },
  {
   "cell_type": "code",
   "execution_count": null,
   "metadata": {
    "collapsed": true
   },
   "outputs": [],
   "source": [
    "# Plot Data "
   ]
  },
  {
   "cell_type": "code",
   "execution_count": null,
   "metadata": {
    "collapsed": true
   },
   "outputs": [],
   "source": [
    "# Extract data from dates for plotting purposes\n",
    "%matplotlib inline\n",
    "import seaborn as sns\n",
    "Date = Glucose_Data['displayTime'][2]\n",
    "Days = []\n",
    "Hour = []\n",
    "Min = []\n",
    "hours = []\n",
    "for i in range(Glucose_Data.shape[0]):\n",
    "    Days.append(datetime.datetime.strptime(Glucose_Data['displayTime'][i], \"%Y-%m-%dT%H:%M:%S\").strftime('%a'))\n",
    "    Hours = datetime.datetime.strptime(Glucose_Data['displayTime'][i], \"%Y-%m-%dT%H:%M:%S\").strftime('%H')\n",
    "    hours.append(int(Hours))\n",
    "    Mins = datetime.datetime.strptime(Glucose_Data['displayTime'][i], \"%Y-%m-%dT%H:%M:%S\").strftime('%M')\n",
    "    Min.append(int(Mins) + int(Hours)*60)\n",
    "    if int(Hours) > 11:\n",
    "        Hour.append('PM')\n",
    "    else:\n",
    "        Hour.append('AM')\n",
    "\n",
    "Glucose_Data['value'].apply(int)\n",
    "Glucose_Data['Day'] = pd.Series(Days)\n",
    "Glucose_Data['AM_PM'] = pd.Series(Hour)\n",
    "Glucose_Data['Hours'] = pd.Series(hours)\n",
    "Glucose_Data['Mins'] = pd.Series(Min) "
   ]
  },
  {
   "cell_type": "code",
   "execution_count": null,
   "metadata": {
    "collapsed": true
   },
   "outputs": [],
   "source": [
    "# Plot the glucose value over time for each day\n",
    "Trend_Dataset = Glucose_Data[['value','Day','Hours']]\n",
    "\n",
    "Grouped = Trend_Dataset.groupby(['Day','Hours']).mean()\n",
    "Flattened = pd.DataFrame(Grouped.to_records())\n",
    "Final = Flattened.pivot(\"Hours\", \"Day\", \"value\")\n",
    "Final = Final.reindex(columns=['Mon','Tue','Wed','Thu','Fri','Sat','Sun'])"
   ]
  },
  {
   "cell_type": "code",
   "execution_count": null,
   "metadata": {},
   "outputs": [],
   "source": [
    "%matplotlib inline\n",
    "start_radius = 1.5\n",
    "Charts = []\n",
    "    \n",
    "group_names= [str(elem) + ':00' for elem in list(Final.index)]\n",
    "group_size=[1,1,1,1,1,1,1,1,1,1,1,1,1,1,1,1,1,1,1,1,1,1,1,1]\n",
    "\n",
    "# Create colors\n",
    "\n",
    "Colors = []\n",
    "for Day in ['Mon','Tue','Wed','Thu','Fri','Sat','Sun']:\n",
    "    colors = []\n",
    "    for data in list(Final[Day]):\n",
    "        if data > 220 or data < 80:\n",
    "            colors.append('red')\n",
    "        else:\n",
    "            colors.append('green')\n",
    "    Colors.append(colors)\n",
    "    \n",
    "# First Ring (outside)\n",
    "fig, ax = plt.subplots()\n",
    "ax.axis('equal')\n",
    "fig.text(x=0,y=0,s='Weekly Diabetes Ring',size='12')\n",
    "fig.text(0.5, 0.5, '{0:.2f}'.format(A1C) , horizontalalignment='center',verticalalignment='center',size =36)\n",
    "mypie, _ = ax.pie(group_size, radius=start_radius, labels=group_names, labeldistance=1.05, colors=Colors[0],counterclock=False,startangle=90)\n",
    "plt.setp( mypie, width=0.2, edgecolor='white')\n",
    "\n",
    "mypie2, _ = ax.pie(group_size, radius=1.4,colors=Colors[1],counterclock=False,startangle=90)\n",
    "plt.setp( mypie2, width=0.1, edgecolor='white')\n",
    "\n",
    "mypie3, _ = ax.pie(group_size, radius=1.3, colors=Colors[2],counterclock=False,startangle=90)\n",
    "plt.setp( mypie3, width=0.1, edgecolor='white')\n",
    "\n",
    "mypie4, _ = ax.pie(group_size, radius=1.2, colors=Colors[3],counterclock=False,startangle=90)\n",
    "plt.setp( mypie4, width=0.1, edgecolor='white')\n",
    "\n",
    "mypie5, _ = ax.pie(group_size, radius=1.1, colors=Colors[4],counterclock=False,startangle=90)\n",
    "plt.setp( mypie5, width=0.1, edgecolor='white')\n",
    "\n",
    "mypie6, _ = ax.pie(group_size, radius=1.0, colors=Colors[5],counterclock=False,startangle=90)\n",
    "plt.setp( mypie6, width=0.1, edgecolor='white')\n",
    "\n",
    "mypie7, _ = ax.pie(group_size, radius=0.9, colors=Colors[6],counterclock=False,startangle=90)\n",
    "plt.setp( mypie7, width=0.1, edgecolor='white')\n",
    "\n",
    "mypie7, _ = ax.pie(group_size, radius=0.9, colors=Colors[6],counterclock=False,startangle=90)\n",
    "plt.setp( mypie7, width=0.1, edgecolor='white')\n",
    "\n",
    "fig.set_size_inches(7,7)\n",
    "\n",
    "plt.margins(0,0)\n",
    "    "
   ]
  },
  {
   "cell_type": "code",
   "execution_count": null,
   "metadata": {},
   "outputs": [],
   "source": [
    "import numpy as np\n",
    "from matplotlib import pyplot as plt\n",
    "\n",
    "plt.rcParams[\"figure.figsize\"] = [16,9]\n",
    "\n",
    "Day = 'Mon'\n",
    "\n",
    "# set up random data between 0 and 90\n",
    "r = list(Final[Day])\n",
    "r.append(r[0])\n",
    "\n",
    "# set up 24 hours matching the random data above\n",
    "hours = np.linspace(0.0,24.0,len(r))\n",
    "\n",
    "# scaling the 24 hours to the full circle, 2pi\n",
    "theta = hours / 24.0 * (2.0 * np.pi)\n",
    "\n",
    "# reverse your data, so that 90 becomes 0:\n",
    "r_rev = [(ri - 400) * -1.0 for ri in r]\n",
    "\n",
    "# set up your polar plot\n",
    "ax = plt.subplot(111, projection='polar')\n",
    "ax.plot(theta, r, color='r', linewidth=3)\n",
    "\n",
    "# define your axis limits\n",
    "ax.set_ylim([0, 400.0])\n",
    "\n",
    "ax.set_yticklabels(['{:.0f}'.format(ylabel) \\\n",
    "                for ylabel in np.linspace(0.0,400.0,len(ax.get_yticklabels())+1)[1:]])\n",
    "\n",
    "\n",
    "ax.set_xticklabels(['{:.0f}:00'.format(xlabel) \\\n",
    "                    for xlabel in np.arange(0.0,24.0,(24.0 / len(ax.get_xticklabels())))])\n",
    "\n",
    "ax.grid(True)\n",
    "ax.set_theta_zero_location('N')\n",
    "ax.set_theta_direction(-1)\n",
    "\n",
    "\n",
    "plt.fill_between(theta, 80, 200, facecolor='green', alpha=0.2)\n",
    "plt.fill_between(theta, 60, 80, facecolor='yellow', alpha=0.2)\n",
    "plt.fill_between(theta, 200, 250, facecolor='yellow', alpha=0.2)\n",
    "plt.fill_between(theta, 0, 60, facecolor='red', alpha=0.1)\n",
    "plt.fill_between(theta, 250, 400, facecolor='red', alpha=0.1)\n",
    "\n",
    "plt.title(s=Day + 'day Glucose Circle')\n",
    "plt.show()\n"
   ]
  },
  {
   "cell_type": "code",
   "execution_count": null,
   "metadata": {},
   "outputs": [],
   "source": [
    "import numpy as np\n",
    "from matplotlib import pyplot as plt\n",
    "\n",
    "plt.rcParams[\"figure.figsize\"] = [16,9]\n",
    "\n",
    "Day = 'Sat'\n",
    "\n",
    "# set up random data between 0 and 90\n",
    "r = list(Final[Day])\n",
    "r.append(r[0])\n",
    "\n",
    "r_above = [data if data > 200 else None for data in r]\n",
    "r_below = [data if data < 70 else None for data in r]\n",
    "r_middle = [data if data >= 70 and data <=200 else None for data in r]\n",
    "\n",
    "# set up 24 hours matching the random data above\n",
    "hours = np.linspace(0.0,24.0,len(r))\n",
    "\n",
    "# scaling the 24 hours to the full circle, 2pi\n",
    "theta = hours / 24.0 * (2.0 * np.pi)\n",
    "\n",
    "# reverse your data, so that 90 becomes 0:\n",
    "r_rev = [(ri - 400) * -1.0 for ri in r]\n",
    "\n",
    "# set up your polar plot\n",
    "ax = plt.subplot(111, projection='polar')\n",
    "ax.plot(theta, r, color='black', linewidth=2,linestyle='dashed')\n",
    "#ax.plot(theta, r, color='r', linewidth=3)\n",
    "# define your axis limits\n",
    "ax.set_ylim([0, 400.0])\n",
    "\n",
    "ax.set_yticklabels(['{:.0f}'.format(ylabel) \\\n",
    "                for ylabel in np.linspace(0.0,400.0,len(ax.get_yticklabels())+1)[1:]])\n",
    "\n",
    "\n",
    "ax.set_xticklabels(['{:.0f}:00'.format(xlabel) \\\n",
    "                    for xlabel in np.arange(0.0,24.0,(24.0 / len(ax.get_xticklabels())))])\n",
    "\n",
    "ax.grid(True)\n",
    "ax.set_theta_zero_location('N')\n",
    "ax.set_theta_direction(-1)\n",
    "\n",
    "Above200 = [True if value > 200 else False for value in r]\n",
    "Below60 = [True if value < 70 else False for value in r]\n",
    "\n",
    "plt.fill_between(theta, 200, r , where=Above200, interpolate=True, facecolor='red', alpha=0.5)\n",
    "plt.fill_between(theta, r, 70 , where=Below60, interpolate=True, facecolor='red', alpha=0.5)\n",
    "plt.fill_between(theta, 70, 200, facecolor='green', alpha=0.2)\n",
    "\n",
    "\n",
    "plt.title(s=Day + 'day Glucose Circle')\n",
    "plt.show()"
   ]
  },
  {
   "cell_type": "code",
   "execution_count": null,
   "metadata": {
    "collapsed": true
   },
   "outputs": [],
   "source": []
  }
 ],
 "metadata": {
  "kernelspec": {
   "display_name": "Python 3",
   "language": "python",
   "name": "python3"
  },
  "language_info": {
   "codemirror_mode": {
    "name": "ipython",
    "version": 3
   },
   "file_extension": ".py",
   "mimetype": "text/x-python",
   "name": "python",
   "nbconvert_exporter": "python",
   "pygments_lexer": "ipython3",
   "version": "3.6.0"
  }
 },
 "nbformat": 4,
 "nbformat_minor": 2
}
